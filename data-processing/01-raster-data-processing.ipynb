{
 "cells": [
  {
   "cell_type": "markdown",
   "metadata": {},
   "source": [
    "# Raster data processing\n",
    "This notebook is designed to download and process raster-based environmental data into consistent gridded datasets for analysis in geospatial software and in MaxEnt species distribution modeling.\n",
    "\n",
    "For each data type, we run the following steps:\n",
    "- downloading from a remote server\n",
    "- handling no-data values\n",
    "- mosaicing and reprojecting imagery\n",
    "- resampling to multiple grid sizes\n",
    "- converting to maxent's raster data format\n",
    "\n",
    "The raw data are hosted on a publicly-accessible cloud bucket, `gs://aedes-americas/`. Some of the data processed in this notebook will be uploaded to this bucket. May of the raw data were generated from Google Earth Engine, and the scripts used to generate these data are available in the directory `aedes-americas/data-processing/earthengine/`.\n",
    "\n",
    "To run this notebook, first navigate to the root directory of the `aedes-americas` repository and activate the conda environment.\n",
    "\n",
    "```bash\n",
    "cd /path/to/aedes-americas\n",
    "conda activate aedes\n",
    "jupyter notebook\n",
    "```"
   ]
  },
  {
   "cell_type": "markdown",
   "metadata": {},
   "source": [
    "## 0.1 Loading modules and configs"
   ]
  },
  {
   "cell_type": "code",
   "execution_count": 1,
   "metadata": {},
   "outputs": [],
   "source": [
    "# set to allow module re-loading during development\n",
    "%load_ext autoreload\n",
    "%autoreload 2"
   ]
  },
  {
   "cell_type": "code",
   "execution_count": 16,
   "metadata": {},
   "outputs": [],
   "source": [
    "# import packages\n",
    "import os\n",
    "import gdal\n",
    "import glob\n",
    "import yaml\n",
    "import numpy as np\n",
    "import otbApplication as otb\n",
    "\n",
    "# raise gdal runtime errors\n",
    "gdal.UseExceptions()\n",
    "\n",
    "# set up orfeo application calls\n",
    "bandMath = otb.Registry.CreateApplication(\"BandMath\")\n",
    "manageNoData = otb.Registry.CreateApplication(\"ManageNoData\")\n",
    "\n",
    "# set the otb creation options to pass to output tif files\n",
    "creation_options = \"&gdal:co:COMPRESS=DEFLATE&gdal:co:TILED=YES\""
   ]
  },
  {
   "cell_type": "code",
   "execution_count": 11,
   "metadata": {},
   "outputs": [],
   "source": [
    "# read the config into memory\n",
    "with open('../config.yml', 'r+') as f:\n",
    "    config = yaml.load(f, Loader=yaml.Loader)"
   ]
  },
  {
   "cell_type": "code",
   "execution_count": 12,
   "metadata": {},
   "outputs": [
    {
     "name": "stdout",
     "output_type": "stream",
     "text": [
      "Creating data directory: /external/aedes-americas/data-raw/\n",
      "Creating data directory: /external/aedes-americas/data-mx-in/\n",
      "Creating data directory: /external/aedes-americas/data-mx-out/\n"
     ]
    }
   ],
   "source": [
    "# create the data directories if they don't yet exist\n",
    "for directory in [config['data-dir'], config['data-mx-in'], config['data-mx-out']]:\n",
    "    if not os.path.exists(directory):\n",
    "        print('Creating data directory: {}'.format(directory))\n",
    "        os.mkdir(directory)"
   ]
  },
  {
   "cell_type": "markdown",
   "metadata": {},
   "source": [
    "### 0.2 helper functions for common tasks"
   ]
  },
  {
   "cell_type": "code",
   "execution_count": null,
   "metadata": {},
   "outputs": [],
   "source": [
    "# updating no-data values\n",
    "def update_nodata(path, nodata=config['nodataata']):\n",
    "    \n",
    "    # read the file refGA_ReadOnlyeadOnlyeadOnlyadOnlyadOnlyget band count\n",
    "    ref = gdal.Open(path, gdal.GA_Update)\n",
    "    n_bands = ref.RasterCount\n",
    "    \n",
    "    # replace no-data values for each band\n",
    "    for band_number in range(n_bands):\n",
    "        band = ref.GetRasterBand(band_number + 1)\n",
    "        band.SetNoDataValue(nodata)\n",
    "        band.FlushCache()\n",
    "    \n",
    "    # write these changes to disk\n",
    "    ref.FlushCache()\n",
    "    ref = None\n",
    "    return True"
   ]
  },
  {
   "cell_type": "markdown",
   "metadata": {},
   "source": [
    "## 1.1 Population density data\n",
    "The human population density data were acquired via WorldPop (https://www.worldpop.org/) and accessed via earthengine."
   ]
  },
  {
   "cell_type": "markdown",
   "metadata": {},
   "source": [
    "### 1.2 Downloading data"
   ]
  },
  {
   "cell_type": "markdown",
   "metadata": {},
   "source": [
    "### 1.3 Handling no-data values"
   ]
  },
  {
   "cell_type": "code",
   "execution_count": 15,
   "metadata": {},
   "outputs": [],
   "source": [
    "# get the list of raw file paths\n",
    "raw_paths = glob.glob(os.path.join(config['data-dir'], 'LACR-pop-density-*'))\n",
    "raw_paths.sort()"
   ]
  },
  {
   "cell_type": "code",
   "execution_count": 23,
   "metadata": {},
   "outputs": [
    {
     "name": "stdout",
     "output_type": "stream",
     "text": [
      "Replacing no-data for: /external/aedes-americas/data-raw/LACR-pop-density-2015-100m-0000098304-0000065536.tif\n",
      "2020-05-31 17:39:12 (INFO) ManageNoData: Default RAM limit for OTB is 256 MB\n",
      "2020-05-31 17:39:12 (INFO) ManageNoData: GDAL maximum cache size is 801 MB\n",
      "2020-05-31 17:39:12 (INFO) ManageNoData: OTB will use at most 8 threads\n",
      "2020-05-31 17:39:13 (INFO): Estimated memory for full processing: 426.533MB (avail.: 256 MB), optimal image partitioning: 2 blocks\n",
      "2020-05-31 17:39:13 (INFO): File /external/aedes-americas/data-raw/LACR-pop-density-2015-100m-0000098304-0000065536-nd.tif will be written in 3 blocks of 10752x1168 pixels\n",
      "Writing /external/aedes-americas/data-raw/LACR-pop-density-2015-100m-0000098304-0000065536-nd.tif?&gdal:co:COMPRESS=DEFLATE&gdal:co:TILED=YES...: 100% [**************************************************] (2s)\n",
      "Replacing no-data for: /external/aedes-americas/data-raw/LACR-pop-density-2015-100m-0000065536-0000065536.tif\n",
      "2020-05-31 17:39:15 (INFO): Estimated memory for full processing: 11967.3MB (avail.: 256 MB), optimal image partitioning: 47 blocks\n",
      "2020-05-31 17:39:15 (INFO): File /external/aedes-americas/data-raw/LACR-pop-density-2015-100m-0000065536-0000065536-nd.tif will be written in 56 blocks of 4864x4608 pixels\n",
      "Writing /external/aedes-americas/data-raw/LACR-pop-density-2015-100m-0000065536-0000065536-nd.tif?&gdal:co:COMPRESS=DEFLATE&gdal:co:TILED=YES...: 100% [**************************************************] (1m 25s)\n",
      "Replacing no-data for: /external/aedes-americas/data-raw/LACR-pop-density-2015-100m-0000065536-0000032768.tif\n",
      "2020-05-31 17:40:41 (INFO): Estimated memory for full processing: 12288MB (avail.: 256 MB), optimal image partitioning: 48 blocks\n",
      "2020-05-31 17:40:41 (INFO): File /external/aedes-americas/data-raw/LACR-pop-density-2015-100m-0000065536-0000032768-nd.tif will be written in 56 blocks of 4864x4608 pixels\n",
      "Writing /external/aedes-americas/data-raw/LACR-pop-density-2015-100m-0000065536-0000032768-nd.tif?&gdal:co:COMPRESS=DEFLATE&gdal:co:TILED=YES...: 100% [**************************************************] (2m 04s)\n",
      "Replacing no-data for: /external/aedes-americas/data-raw/LACR-pop-density-2015-100m-0000000000-0000032768.tif\n",
      "2020-05-31 17:42:46 (INFO): Estimated memory for full processing: 12288MB (avail.: 256 MB), optimal image partitioning: 48 blocks\n",
      "2020-05-31 17:42:46 (INFO): File /external/aedes-americas/data-raw/LACR-pop-density-2015-100m-0000000000-0000032768-nd.tif will be written in 56 blocks of 4864x4608 pixels\n",
      "Writing /external/aedes-americas/data-raw/LACR-pop-density-2015-100m-0000000000-0000032768-nd.tif?&gdal:co:COMPRESS=DEFLATE&gdal:co:TILED=YES...: 100% [**************************************************] (1m 41s)\n",
      "Replacing no-data for: /external/aedes-americas/data-raw/LACR-pop-density-2015-100m-0000098304-0000032768.tif\n",
      "2020-05-31 17:44:28 (INFO): Estimated memory for full processing: 437.962MB (avail.: 256 MB), optimal image partitioning: 2 blocks\n",
      "2020-05-31 17:44:28 (INFO): File /external/aedes-americas/data-raw/LACR-pop-density-2015-100m-0000098304-0000032768-nd.tif will be written in 3 blocks of 11008x1168 pixels\n",
      "Writing /external/aedes-americas/data-raw/LACR-pop-density-2015-100m-0000098304-0000032768-nd.tif?&gdal:co:COMPRESS=DEFLATE&gdal:co:TILED=YES...: 100% [**************************************************] (2s)\n",
      "Replacing no-data for: /external/aedes-americas/data-raw/LACR-pop-density-2015-100m-0000098304-0000000000.tif\n",
      "2020-05-31 17:44:30 (INFO): Estimated memory for full processing: 437.962MB (avail.: 256 MB), optimal image partitioning: 2 blocks\n",
      "2020-05-31 17:44:30 (INFO): File /external/aedes-americas/data-raw/LACR-pop-density-2015-100m-0000098304-0000000000-nd.tif will be written in 3 blocks of 11008x1168 pixels\n",
      "Writing /external/aedes-americas/data-raw/LACR-pop-density-2015-100m-0000098304-0000000000-nd.tif?&gdal:co:COMPRESS=DEFLATE&gdal:co:TILED=YES...: 100% [**************************************************] (2s)\n",
      "Replacing no-data for: /external/aedes-americas/data-raw/LACR-pop-density-2015-100m-0000032768-0000032768.tif\n",
      "2020-05-31 17:44:32 (INFO): Estimated memory for full processing: 12288MB (avail.: 256 MB), optimal image partitioning: 48 blocks\n",
      "2020-05-31 17:44:32 (INFO): File /external/aedes-americas/data-raw/LACR-pop-density-2015-100m-0000032768-0000032768-nd.tif will be written in 56 blocks of 4864x4608 pixels\n",
      "Writing /external/aedes-americas/data-raw/LACR-pop-density-2015-100m-0000032768-0000032768-nd.tif?&gdal:co:COMPRESS=DEFLATE&gdal:co:TILED=YES...: 100% [**************************************************] (3m 18s)\n",
      "Replacing no-data for: /external/aedes-americas/data-raw/LACR-pop-density-2015-100m-0000032768-0000065536.tif\n",
      "2020-05-31 17:47:51 (INFO): Estimated memory for full processing: 11967.3MB (avail.: 256 MB), optimal image partitioning: 47 blocks\n",
      "2020-05-31 17:47:51 (INFO): File /external/aedes-americas/data-raw/LACR-pop-density-2015-100m-0000032768-0000065536-nd.tif will be written in 56 blocks of 4864x4608 pixels\n",
      "Writing /external/aedes-americas/data-raw/LACR-pop-density-2015-100m-0000032768-0000065536-nd.tif?&gdal:co:COMPRESS=DEFLATE&gdal:co:TILED=YES...: 100% [**************************************************] (8m 44s)\n",
      "Replacing no-data for: /external/aedes-americas/data-raw/LACR-pop-density-2015-100m-0000032768-0000000000.tif\n",
      "2020-05-31 17:56:45 (INFO): Estimated memory for full processing: 12288MB (avail.: 256 MB), optimal image partitioning: 48 blocks\n",
      "2020-05-31 17:56:46 (INFO): File /external/aedes-americas/data-raw/LACR-pop-density-2015-100m-0000032768-0000000000-nd.tif will be written in 56 blocks of 4864x4608 pixels\n",
      "Writing /external/aedes-americas/data-raw/LACR-pop-density-2015-100m-0000032768-0000000000-nd.tif?&gdal:co:COMPRESS=DEFLATE&gdal:co:TILED=YES...: 100% [**************************************************] (58s)\n",
      "Replacing no-data for: /external/aedes-americas/data-raw/LACR-pop-density-2015-100m-0000000000-0000000000.tif\n",
      "2020-05-31 17:57:44 (INFO): Estimated memory for full processing: 12288MB (avail.: 256 MB), optimal image partitioning: 48 blocks\n",
      "2020-05-31 17:57:44 (INFO): File /external/aedes-americas/data-raw/LACR-pop-density-2015-100m-0000000000-0000000000-nd.tif will be written in 56 blocks of 4864x4608 pixels\n",
      "Writing /external/aedes-americas/data-raw/LACR-pop-density-2015-100m-0000000000-0000000000-nd.tif?&gdal:co:COMPRESS=DEFLATE&gdal:co:TILED=YES...: 100% [**************************************************] (1m 47s)\n",
      "Replacing no-data for: /external/aedes-americas/data-raw/LACR-pop-density-2015-100m-0000065536-0000000000.tif\n",
      "2020-05-31 17:59:32 (INFO): Estimated memory for full processing: 12288MB (avail.: 256 MB), optimal image partitioning: 48 blocks\n",
      "2020-05-31 17:59:32 (INFO): File /external/aedes-americas/data-raw/LACR-pop-density-2015-100m-0000065536-0000000000-nd.tif will be written in 56 blocks of 4864x4608 pixels\n",
      "Writing /external/aedes-americas/data-raw/LACR-pop-density-2015-100m-0000065536-0000000000-nd.tif?&gdal:co:COMPRESS=DEFLATE&gdal:co:TILED=YES...: 100% [**************************************************] (56s)\n"
     ]
    }
   ],
   "source": [
    "# replace all the `nan` no-data values with numeric no-data values\n",
    "for input_path in raw_paths:\n",
    "    \n",
    "    # set the output file name\n",
    "    output_path = '{file}?{options}'.format(file = input_path[:-4]+\"-nd.tif\", options = creation_options)\n",
    "    \n",
    "    # build the otb command\n",
    "    manageNoData.SetParameterString(\"in\", input_path)\n",
    "    manageNoData.SetParameterString(\"out\", output_path)\n",
    "    manageNoData.SetParameterString(\"mode\", \"changevalue\")\n",
    "    manageNoData.SetParameterValue(\"mode.changevalue.newv\", config['nodata'])\n",
    "    manageNoData.SetParameterValue(\"usenan\", True)\n",
    "    \n",
    "    # run it\n",
    "    manageNoData.ExecuteAndWriteOutput()\n",
    "    \n",
    "    # sanitize the otb call for future use\n",
    "    manageNoData.ClearValue(\"in\")\n",
    "    manageNoData.ClearValue(\"out\")\n",
    "    manageNoData.ClearValue(\"mode\")\n",
    "    manageNoData.ClearValue(\"mode.changevalue.newv\")\n",
    "    manageNoData.ClearValue(\"usenan\")\n",
    "    \n",
    "    # then make sure the nodata value is set\n",
    "    update_nodata(output_path, config['nodata'])"
   ]
  },
  {
   "cell_type": "markdown",
   "metadata": {},
   "source": [
    "### 1.4 Mosaicing and reprojecting imagery\n",
    "First we'll create a virtual raster mosaic, then we'll run `gdalwarp` to reproject the imagery"
   ]
  },
  {
   "cell_type": "code",
   "execution_count": null,
   "metadata": {},
   "outputs": [],
   "source": [
    "# get the list of masked file paths\n",
    "raw_paths = glob.glob(os.path.join(config['data-dir'], 'LACR-pop-density-*-nd.tif'))\n",
    "raw_paths.sort()"
   ]
  }
 ],
 "metadata": {
  "kernelspec": {
   "display_name": "Python 3",
   "language": "python",
   "name": "python3"
  },
  "language_info": {
   "codemirror_mode": {
    "name": "ipython",
    "version": 3
   },
   "file_extension": ".py",
   "mimetype": "text/x-python",
   "name": "python",
   "nbconvert_exporter": "python",
   "pygments_lexer": "ipython3",
   "version": "3.7.6"
  }
 },
 "nbformat": 4,
 "nbformat_minor": 4
}
