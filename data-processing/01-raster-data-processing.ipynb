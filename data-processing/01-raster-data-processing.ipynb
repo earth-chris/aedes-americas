{
 "cells": [
  {
   "cell_type": "markdown",
   "metadata": {},
   "source": [
    "# Raster data processing\n",
    "This notebook is designed to download and process raster-based environmental data into consistent gridded datasets for analysis in geospatial software and in MaxEnt species distribution modeling.\n",
    "\n",
    "For each data type, we run the following steps:\n",
    "- downloading from a remote server\n",
    "- handling no-data values\n",
    "- mosaicing and reprojecting imagery\n",
    "- resampling to multiple grid sizes\n",
    "- converting to maxent's raster data format\n",
    "\n",
    "The raw data are hosted on a publicly-accessible cloud bucket, `gs://aedes-americas/`. Some of the data processed in this notebook will be uploaded to this bucket. May of the raw data were generated from Google Earth Engine, and the scripts used to generate these data are available in the directory `aedes-americas/data-processing/earthengine/`.\n",
    "\n",
    "To run this notebook, first navigate to the root directory of the `aedes-americas` repository and activate the conda environment.\n",
    "\n",
    "```bash\n",
    "cd /path/to/aedes-americas\n",
    "conda activate aedes\n",
    "jupyter notebook\n",
    "```"
   ]
  },
  {
   "cell_type": "markdown",
   "metadata": {},
   "source": [
    "## 0.1 Loading modules and configs"
   ]
  },
  {
   "cell_type": "code",
   "execution_count": 1,
   "metadata": {},
   "outputs": [],
   "source": [
    "# set to allow module re-loading during development\n",
    "%load_ext autoreload\n",
    "%autoreload 2"
   ]
  },
  {
   "cell_type": "code",
   "execution_count": 42,
   "metadata": {},
   "outputs": [],
   "source": [
    "# import packages\n",
    "import os\n",
    "import gdal\n",
    "import glob\n",
    "import yaml\n",
    "import numpy as np\n",
    "import otbApplication as otb\n",
    "\n",
    "# raise gdal runtime errors\n",
    "gdal.UseExceptions()\n",
    "\n",
    "# set up orfeo application calls\n",
    "bandMath = otb.Registry.CreateApplication(\"BandMath\")\n",
    "manageNoData = otb.Registry.CreateApplication(\"ManageNoData\")\n",
    "\n",
    "# set the otb creation options to pass to output tif files\n",
    "otb_creation_options = \"&gdal:co:COMPRESS=DEFLATE&gdal:co:TILED=YES\"\n",
    "gdal_creation_options = [\"COMPRESS=DEFLATE\", \"TILED=YES\"]"
   ]
  },
  {
   "cell_type": "code",
   "execution_count": 43,
   "metadata": {},
   "outputs": [],
   "source": [
    "# read the config into memory\n",
    "with open('../config.yml', 'r+') as f:\n",
    "    config = yaml.load(f, Loader=yaml.Loader)"
   ]
  },
  {
   "cell_type": "code",
   "execution_count": 34,
   "metadata": {},
   "outputs": [
    {
     "name": "stdout",
     "output_type": "stream",
     "text": [
      "Creating data directory: /external/aedes-americas/data-mx-in/001000-m\n",
      "Creating data directory: /external/aedes-americas/data-mx-in/005000-m\n",
      "Creating data directory: /external/aedes-americas/data-mx-in/010000-m\n",
      "Creating data directory: /external/aedes-americas/data-mx-in/050000-m\n",
      "Creating data directory: /external/aedes-americas/data-mx-in/100000-m\n"
     ]
    }
   ],
   "source": [
    "# create the data directories if they don't yet exist\n",
    "for directory in [config['data-dir'], config['data-mx-in'], config['data-mx-out']]:\n",
    "    if not os.path.exists(directory):\n",
    "        print('Creating data directory: {}'.format(directory))\n",
    "        os.mkdir(directory)\n",
    "\n",
    "grid_dirs = list()\n",
    "for grid_size in config['grid-size']:\n",
    "    directory = os.path.join(config['data-mx-in'], \"{:06d}-m\".format(int(grid_size)))\n",
    "    grid_dirs.append(directory)\n",
    "    if not os.path.exists(directory):\n",
    "        print('Creating data directory: {}'.format(directory))\n",
    "        os.mkdir(directory)"
   ]
  },
  {
   "cell_type": "markdown",
   "metadata": {},
   "source": [
    "### 0.2 helper functions for common tasks"
   ]
  },
  {
   "cell_type": "code",
   "execution_count": null,
   "metadata": {},
   "outputs": [],
   "source": [
    "# updating no-data values\n",
    "def update_nodata(path, nodata=config['nodataata']):\n",
    "    \n",
    "    # read the file refGA_ReadOnlyeadOnlyeadOnlyadOnlyadOnlyget band count\n",
    "    ref = gdal.Open(path, gdal.GA_Update)\n",
    "    n_bands = ref.RasterCount\n",
    "    \n",
    "    # replace no-data values for each band\n",
    "    for band_number in range(n_bands):\n",
    "        band = ref.GetRasterBand(band_number + 1)\n",
    "        band.SetNoDataValue(nodata)\n",
    "        band.FlushCache()\n",
    "    \n",
    "    # write these changes to disk\n",
    "    ref.FlushCache()\n",
    "    ref = None\n",
    "    return True"
   ]
  },
  {
   "cell_type": "markdown",
   "metadata": {},
   "source": [
    "## 1.1 Population density data\n",
    "The human population density data were acquired via WorldPop (https://www.worldpop.org/) and accessed via earthengine."
   ]
  },
  {
   "cell_type": "code",
   "execution_count": 35,
   "metadata": {},
   "outputs": [],
   "source": [
    "# set the name key\n",
    "key = 'population'"
   ]
  },
  {
   "cell_type": "markdown",
   "metadata": {},
   "source": [
    "### 1.2 Downloading data"
   ]
  },
  {
   "cell_type": "markdown",
   "metadata": {},
   "source": [
    "### 1.3 Handling no-data values"
   ]
  },
  {
   "cell_type": "code",
   "execution_count": 15,
   "metadata": {},
   "outputs": [],
   "source": [
    "# get the list of raw file paths\n",
    "raw_paths = glob.glob(os.path.join(config['data-dir'], 'LACR-pop-density-*'))\n",
    "raw_paths.sort()"
   ]
  },
  {
   "cell_type": "code",
   "execution_count": 23,
   "metadata": {
    "collapsed": true
   },
   "outputs": [
    {
     "name": "stdout",
     "output_type": "stream",
     "text": [
      "Replacing no-data for: /external/aedes-americas/data-raw/LACR-pop-density-2015-100m-0000098304-0000065536.tif\n",
      "2020-05-31 17:39:12 (INFO) ManageNoData: Default RAM limit for OTB is 256 MB\n",
      "2020-05-31 17:39:12 (INFO) ManageNoData: GDAL maximum cache size is 801 MB\n",
      "2020-05-31 17:39:12 (INFO) ManageNoData: OTB will use at most 8 threads\n",
      "2020-05-31 17:39:13 (INFO): Estimated memory for full processing: 426.533MB (avail.: 256 MB), optimal image partitioning: 2 blocks\n",
      "2020-05-31 17:39:13 (INFO): File /external/aedes-americas/data-raw/LACR-pop-density-2015-100m-0000098304-0000065536-nd.tif will be written in 3 blocks of 10752x1168 pixels\n",
      "Writing /external/aedes-americas/data-raw/LACR-pop-density-2015-100m-0000098304-0000065536-nd.tif?&gdal:co:COMPRESS=DEFLATE&gdal:co:TILED=YES...: 100% [**************************************************] (2s)\n",
      "Replacing no-data for: /external/aedes-americas/data-raw/LACR-pop-density-2015-100m-0000065536-0000065536.tif\n",
      "2020-05-31 17:39:15 (INFO): Estimated memory for full processing: 11967.3MB (avail.: 256 MB), optimal image partitioning: 47 blocks\n",
      "2020-05-31 17:39:15 (INFO): File /external/aedes-americas/data-raw/LACR-pop-density-2015-100m-0000065536-0000065536-nd.tif will be written in 56 blocks of 4864x4608 pixels\n",
      "Writing /external/aedes-americas/data-raw/LACR-pop-density-2015-100m-0000065536-0000065536-nd.tif?&gdal:co:COMPRESS=DEFLATE&gdal:co:TILED=YES...: 100% [**************************************************] (1m 25s)\n",
      "Replacing no-data for: /external/aedes-americas/data-raw/LACR-pop-density-2015-100m-0000065536-0000032768.tif\n",
      "2020-05-31 17:40:41 (INFO): Estimated memory for full processing: 12288MB (avail.: 256 MB), optimal image partitioning: 48 blocks\n",
      "2020-05-31 17:40:41 (INFO): File /external/aedes-americas/data-raw/LACR-pop-density-2015-100m-0000065536-0000032768-nd.tif will be written in 56 blocks of 4864x4608 pixels\n",
      "Writing /external/aedes-americas/data-raw/LACR-pop-density-2015-100m-0000065536-0000032768-nd.tif?&gdal:co:COMPRESS=DEFLATE&gdal:co:TILED=YES...: 100% [**************************************************] (2m 04s)\n",
      "Replacing no-data for: /external/aedes-americas/data-raw/LACR-pop-density-2015-100m-0000000000-0000032768.tif\n",
      "2020-05-31 17:42:46 (INFO): Estimated memory for full processing: 12288MB (avail.: 256 MB), optimal image partitioning: 48 blocks\n",
      "2020-05-31 17:42:46 (INFO): File /external/aedes-americas/data-raw/LACR-pop-density-2015-100m-0000000000-0000032768-nd.tif will be written in 56 blocks of 4864x4608 pixels\n",
      "Writing /external/aedes-americas/data-raw/LACR-pop-density-2015-100m-0000000000-0000032768-nd.tif?&gdal:co:COMPRESS=DEFLATE&gdal:co:TILED=YES...: 100% [**************************************************] (1m 41s)\n",
      "Replacing no-data for: /external/aedes-americas/data-raw/LACR-pop-density-2015-100m-0000098304-0000032768.tif\n",
      "2020-05-31 17:44:28 (INFO): Estimated memory for full processing: 437.962MB (avail.: 256 MB), optimal image partitioning: 2 blocks\n",
      "2020-05-31 17:44:28 (INFO): File /external/aedes-americas/data-raw/LACR-pop-density-2015-100m-0000098304-0000032768-nd.tif will be written in 3 blocks of 11008x1168 pixels\n",
      "Writing /external/aedes-americas/data-raw/LACR-pop-density-2015-100m-0000098304-0000032768-nd.tif?&gdal:co:COMPRESS=DEFLATE&gdal:co:TILED=YES...: 100% [**************************************************] (2s)\n",
      "Replacing no-data for: /external/aedes-americas/data-raw/LACR-pop-density-2015-100m-0000098304-0000000000.tif\n",
      "2020-05-31 17:44:30 (INFO): Estimated memory for full processing: 437.962MB (avail.: 256 MB), optimal image partitioning: 2 blocks\n",
      "2020-05-31 17:44:30 (INFO): File /external/aedes-americas/data-raw/LACR-pop-density-2015-100m-0000098304-0000000000-nd.tif will be written in 3 blocks of 11008x1168 pixels\n",
      "Writing /external/aedes-americas/data-raw/LACR-pop-density-2015-100m-0000098304-0000000000-nd.tif?&gdal:co:COMPRESS=DEFLATE&gdal:co:TILED=YES...: 100% [**************************************************] (2s)\n",
      "Replacing no-data for: /external/aedes-americas/data-raw/LACR-pop-density-2015-100m-0000032768-0000032768.tif\n",
      "2020-05-31 17:44:32 (INFO): Estimated memory for full processing: 12288MB (avail.: 256 MB), optimal image partitioning: 48 blocks\n",
      "2020-05-31 17:44:32 (INFO): File /external/aedes-americas/data-raw/LACR-pop-density-2015-100m-0000032768-0000032768-nd.tif will be written in 56 blocks of 4864x4608 pixels\n",
      "Writing /external/aedes-americas/data-raw/LACR-pop-density-2015-100m-0000032768-0000032768-nd.tif?&gdal:co:COMPRESS=DEFLATE&gdal:co:TILED=YES...: 100% [**************************************************] (3m 18s)\n",
      "Replacing no-data for: /external/aedes-americas/data-raw/LACR-pop-density-2015-100m-0000032768-0000065536.tif\n",
      "2020-05-31 17:47:51 (INFO): Estimated memory for full processing: 11967.3MB (avail.: 256 MB), optimal image partitioning: 47 blocks\n",
      "2020-05-31 17:47:51 (INFO): File /external/aedes-americas/data-raw/LACR-pop-density-2015-100m-0000032768-0000065536-nd.tif will be written in 56 blocks of 4864x4608 pixels\n",
      "Writing /external/aedes-americas/data-raw/LACR-pop-density-2015-100m-0000032768-0000065536-nd.tif?&gdal:co:COMPRESS=DEFLATE&gdal:co:TILED=YES...: 100% [**************************************************] (8m 44s)\n",
      "Replacing no-data for: /external/aedes-americas/data-raw/LACR-pop-density-2015-100m-0000032768-0000000000.tif\n",
      "2020-05-31 17:56:45 (INFO): Estimated memory for full processing: 12288MB (avail.: 256 MB), optimal image partitioning: 48 blocks\n",
      "2020-05-31 17:56:46 (INFO): File /external/aedes-americas/data-raw/LACR-pop-density-2015-100m-0000032768-0000000000-nd.tif will be written in 56 blocks of 4864x4608 pixels\n",
      "Writing /external/aedes-americas/data-raw/LACR-pop-density-2015-100m-0000032768-0000000000-nd.tif?&gdal:co:COMPRESS=DEFLATE&gdal:co:TILED=YES...: 100% [**************************************************] (58s)\n",
      "Replacing no-data for: /external/aedes-americas/data-raw/LACR-pop-density-2015-100m-0000000000-0000000000.tif\n",
      "2020-05-31 17:57:44 (INFO): Estimated memory for full processing: 12288MB (avail.: 256 MB), optimal image partitioning: 48 blocks\n",
      "2020-05-31 17:57:44 (INFO): File /external/aedes-americas/data-raw/LACR-pop-density-2015-100m-0000000000-0000000000-nd.tif will be written in 56 blocks of 4864x4608 pixels\n",
      "Writing /external/aedes-americas/data-raw/LACR-pop-density-2015-100m-0000000000-0000000000-nd.tif?&gdal:co:COMPRESS=DEFLATE&gdal:co:TILED=YES...: 100% [**************************************************] (1m 47s)\n",
      "Replacing no-data for: /external/aedes-americas/data-raw/LACR-pop-density-2015-100m-0000065536-0000000000.tif\n",
      "2020-05-31 17:59:32 (INFO): Estimated memory for full processing: 12288MB (avail.: 256 MB), optimal image partitioning: 48 blocks\n",
      "2020-05-31 17:59:32 (INFO): File /external/aedes-americas/data-raw/LACR-pop-density-2015-100m-0000065536-0000000000-nd.tif will be written in 56 blocks of 4864x4608 pixels\n",
      "Writing /external/aedes-americas/data-raw/LACR-pop-density-2015-100m-0000065536-0000000000-nd.tif?&gdal:co:COMPRESS=DEFLATE&gdal:co:TILED=YES...: 100% [**************************************************] (56s)\n"
     ]
    }
   ],
   "source": [
    "# replace all the `nan` no-data values with numeric no-data values\n",
    "for input_path in raw_paths:\n",
    "    \n",
    "    # set the output file name\n",
    "    output_path = '{file}?{options}'.format(file = input_path[:-4]+\"-nd.tif\", options = otb_creation_options)\n",
    "    \n",
    "    # build the otb command\n",
    "    manageNoData.SetParameterString(\"in\", input_path)\n",
    "    manageNoData.SetParameterString(\"out\", output_path)\n",
    "    manageNoData.SetParameterString(\"mode\", \"changevalue\")\n",
    "    manageNoData.SetParameterValue(\"mode.changevalue.newv\", config['nodata'])\n",
    "    manageNoData.SetParameterValue(\"usenan\", True)\n",
    "    \n",
    "    # run it\n",
    "    manageNoData.ExecuteAndWriteOutput()\n",
    "    \n",
    "    # sanitize the otb call for future use\n",
    "    manageNoData.ClearValue(\"in\")\n",
    "    manageNoData.ClearValue(\"out\")\n",
    "    manageNoData.ClearValue(\"mode\")\n",
    "    manageNoData.ClearValue(\"mode.changevalue.newv\")\n",
    "    manageNoData.ClearValue(\"usenan\")"
   ]
  },
  {
   "cell_type": "markdown",
   "metadata": {},
   "source": [
    "### 1.4 Mosaic and reproject the imagery\n",
    "The population density data are tricky--we want to compute the sum of the population in each grid cell. However, there are no resampling tools that do that. (well, gdal 3.1 says it does, but it doesn't suppor that in it's python bindings, and the package conflicts with orfeo, so we're SOL if we want to use both)\n",
    "\n",
    "So, my solution is to compute the average population of each 1 km grid cell then scale that by the number of valid 100m grid cells in each 1km grid cell. Since there are 10x10 100m cells per 1km cell, we'll ultimately calculate `average population * (% valid cells * 100)`."
   ]
  },
  {
   "cell_type": "code",
   "execution_count": null,
   "metadata": {},
   "outputs": [],
   "source": [
    "#### 1.4.1 computing average population density"
   ]
  },
  {
   "cell_type": "code",
   "execution_count": 28,
   "metadata": {},
   "outputs": [],
   "source": [
    "# get the list of masked file paths\n",
    "nd_paths = glob.glob(os.path.join(config['data-dir'], 'LACR-pop-density-*-nd.tif'))\n",
    "nd_paths.sort()"
   ]
  },
  {
   "cell_type": "code",
   "execution_count": 50,
   "metadata": {},
   "outputs": [],
   "source": [
    "# create the VRT\n",
    "vrt_path = os.path.join(config['data-dir'], 'Population-data-raw.vrt')\n",
    "vrt = gdal.BuildVRT(vrt_path, nd_paths)\n",
    "vrt.FlushCache()"
   ]
  },
  {
   "cell_type": "code",
   "execution_count": 51,
   "metadata": {
    "collapsed": true
   },
   "outputs": [
    {
     "ename": "AttributeError",
     "evalue": "'NoneType' object has no attribute 'flushCache'",
     "output_type": "error",
     "traceback": [
      "\u001b[1;31m---------------------------------------------------------------------------\u001b[0m",
      "\u001b[1;31mAttributeError\u001b[0m                            Traceback (most recent call last)",
      "\u001b[1;32m<ipython-input-51-01c319b29826>\u001b[0m in \u001b[0;36m<module>\u001b[1;34m\u001b[0m\n\u001b[0;32m     22\u001b[0m     \u001b[0moptions\u001b[0m \u001b[1;33m=\u001b[0m \u001b[0mwarp_options\u001b[0m\u001b[1;33m\u001b[0m\u001b[1;33m\u001b[0m\u001b[0m\n\u001b[0;32m     23\u001b[0m )\n\u001b[1;32m---> 24\u001b[1;33m \u001b[0mwarp\u001b[0m\u001b[1;33m.\u001b[0m\u001b[0mflushCache\u001b[0m\u001b[1;33m(\u001b[0m\u001b[1;33m)\u001b[0m\u001b[1;33m\u001b[0m\u001b[1;33m\u001b[0m\u001b[0m\n\u001b[0m",
      "\u001b[1;31mAttributeError\u001b[0m: 'NoneType' object has no attribute 'flushCache'"
     ]
    }
   ],
   "source": [
    "# set the output path\n",
    "average_path = os.path.join(config['data-dir'], \"Population-data-average.tif\")\n",
    "\n",
    "# set gdal warp options\n",
    "warp_options = gdal.WarpOptions(\n",
    "    resampleAlg = gdal.GRA_Average,\n",
    "    xRes = config['grid-size'][0],\n",
    "    yRes = config['grid-size'][0],\n",
    "    dstSRS = 'EPSG:{}'.format(config['epsg']),\n",
    "    outputBounds = config['bounds'],\n",
    "    creationOptions = gdal_creation_options,\n",
    "    multithread = True,\n",
    "    format = 'GTiff',\n",
    "    srcNodata = config['nodata'],\n",
    "    dstNodata = config['nodata']\n",
    ")\n",
    "\n",
    "# run the operation\n",
    "gdal.Warp(\n",
    "    average_path,\n",
    "    vrt_path,\n",
    "    options = warp_options\n",
    ")"
   ]
  },
  {
   "cell_type": "markdown",
   "metadata": {},
   "source": [
    "#### 1.4.2 computing the % valid cells"
   ]
  },
  {
   "cell_type": "code",
   "execution_count": null,
   "metadata": {},
   "outputs": [],
   "source": [
    "# first, create a set of 0/1 mask files representing valid pixels\n",
    "for input_path in raw_paths:\n",
    "    \n",
    "    # set the output file name\n",
    "    output_path = '{file}?{options}'.format(file = input_path[:-4]+\"-mask.tif\", options = otb_creation_options)\n",
    "    \n",
    "    # build the otb command\n",
    "    manageNoData.SetParameterString(\"in\", input_path)\n",
    "    manageNoData.SetParameterString(\"out\", output_path)\n",
    "    manageNoData.SetParameterString(\"mode\", \"buildmask\")\n",
    "    manageNoData.SetParameterValue(\"usenan\", True)\n",
    "    masking.SetParameterOutputImagePixelType(\"out\", 1)\n",
    "    \n",
    "    # run it\n",
    "    manageNoData.ExecuteAndWriteOutput()\n",
    "    \n",
    "    # sanitize the otb call for future use\n",
    "    manageNoData.ClearValue(\"in\")\n",
    "    manageNoData.ClearValue(\"out\")\n",
    "    manageNoData.ClearValue(\"mode\")\n",
    "    manageNoData.ClearValue(\"mode.changevalue.newv\")\n",
    "    manageNoData.ClearValue(\"usenan\")"
   ]
  },
  {
   "cell_type": "code",
   "execution_count": 40,
   "metadata": {},
   "outputs": [
    {
     "data": {
      "text/plain": [
       "'/external/aedes-americas/data-mx-in/100000-m/pop.tif'"
      ]
     },
     "execution_count": 40,
     "metadata": {},
     "output_type": "execute_result"
    }
   ],
   "source": [
    "# loop through each grid size and resample / reproject this raw data\n",
    "for grid_size, directory in zip(config['data'], grid_dirs):\n",
    "    print(\"Processing {key} data at grid size: {gs:06d} meters\".format(key=key, gs=grid_size))"
   ]
  }
 ],
 "metadata": {
  "kernelspec": {
   "display_name": "Python 3",
   "language": "python",
   "name": "python3"
  },
  "language_info": {
   "codemirror_mode": {
    "name": "ipython",
    "version": 3
   },
   "file_extension": ".py",
   "mimetype": "text/x-python",
   "name": "python",
   "nbconvert_exporter": "python",
   "pygments_lexer": "ipython3",
   "version": "3.7.6"
  }
 },
 "nbformat": 4,
 "nbformat_minor": 4
}
